{
 "cells": [
  {
   "cell_type": "code",
   "execution_count": 26,
   "id": "7815a47b",
   "metadata": {
    "scrolled": true
   },
   "outputs": [
    {
     "name": "stdout",
     "output_type": "stream",
     "text": [
      "Requirement already satisfied: beautifulsoup4 in c:\\users\\dugsa\\anaconda33\\lib\\site-packages (4.11.1)\n",
      "Requirement already satisfied: soupsieve>1.2 in c:\\users\\dugsa\\anaconda33\\lib\\site-packages (from beautifulsoup4) (2.3.2.post1)\n",
      "Note: you may need to restart the kernel to use updated packages.\n"
     ]
    }
   ],
   "source": [
    "# pip install beautifulsoup4"
   ]
  },
  {
   "cell_type": "code",
   "execution_count": 87,
   "id": "bb176922",
   "metadata": {
    "scrolled": false
   },
   "outputs": [
    {
     "name": "stdout",
     "output_type": "stream",
     "text": [
      "                                                                        Product Name   Price\n",
      "0   Laptop ASUS TUF Dash F15 (2022), 15.6\", Intel Core i7, 16GB RAM, 1TB SSD, NVIDIA  1229.5\n",
      "1   Laptop Lenovo IdeaPad Gaming 3 15ACH6, 15.6'', AMD Ryzen 5, 16GB RAM, 512 GB SSD   999.5\n",
      "2   Laptop Lenovo Legion 5 17ACH6H, 17.3\", AMD Ryzen 5, 16GB RAM DDR4, 512GB SSD, NV  1079.5\n",
      "3   Laptop Lenovo IdeaPad Gaming 3 15IHU6, 15.6\", Intel Core i5, 16GB RAM, 512GB, NV   798.5\n",
      "4   Laptop Lenovo V15 G3 IAP, 15.6\", Intel Core i3, 8GB RAM, 256GB SSD, Intel UHD Gr   379.5\n",
      "5   Laptop Dell Latitude 15 (5530), 15.6 \", Intel Core i5, 16GB RAM, 512GB SSD, Inte  1282.5\n",
      "6   Laptop ASUS VivoBook 15 (X1500, 11th gen Intel), 15.6 \", Intel Core i5, 16GB RAM   569.5\n",
      "7   Laptop HP ProBook 450 G9, 15.6\", Intel Core i7, 16GB RAM, 1TB SSD, Intel Iris Xe  1353.5\n",
      "8   Laptop Acer Nitro 5 (AN515-57), 15.6 \", Intel Core i5, 8GB RAM, 512GB SSD, NVIDI   699.5\n",
      "9   Laptop Lenovo IdeaPad 3 15ITL6, 15.6\", Intel Core i5, 8GB RAM, 512GB SSD, Intel    519.5\n",
      "10  Laptop ASUS TUF Gaming A15 (2023), 15.6\", AMD Ryzen 7, 16GB RAM, 1TB SSD, NVIDIA  1069.5\n",
      "11  Laptop Lenovo V V15, 15.6\", AMD Ryzen 5, 8GB RAM, 512GB SSD, AMD Radeon Graphics   499.5\n",
      "12  Laptop Lenovo IdeaPad Gaming 3, 15.6\", Intel Core i5, 16GB RAM, 512GB SSD, NVIDI   818.5\n",
      "13  Laptop Lenovo Yoga Slim 7 Pro 14IAP7, 14 \", Intel Core i5, 16GB RAM, 512GB SSD,    954.5\n",
      "14  Laptop Lenovo IdeaPad Flex 5 14ALC7, 14\", AMD Ryzen 5, 8 GB RAM, 512GB SSD, AMD    729.5\n",
      "15  Laptop ASUS Zenbook 14 OLED (UX3402, 12th Gen Intel), 14\", Intel Core i7, 16GB R  1208.5\n",
      "16  Laptop Dell Inspiron 16 (5625), 16 \", AMD Ryzen 7, 16GB RAM, 512GB SSD, AMD Rade   669.5\n",
      "17  Laptop ASUS TUF Gaming F15 (2021), 15.6 \", Intel Core i5, 16GB RAM, 512GB SSD, N   849.5\n",
      "18  Laptop Lenovo Legion 5, 15.6\", Intel Core i5, 16GB RAM, 1000GB SSD, NVIDIA GeFor  1049.5\n",
      "19  Laptop Acer Nitro 5 (AN515-57), 15.6 \", Intel Core i5, 16GB RAM, 1TB SSD, NVIDIA  1099.5\n",
      "20  Laptop ASUS TUF Gaming F15, 15.6\", Intel Core i5, 16GB RAM, 512GB SSD, NVIDIA Ge   759.5\n",
      "21  Laptop Acer Nitro 5 (AN515-57), 15.6 \", Intel Core i5, 16GB RAM, 512GB SSD, NVID   869.5\n",
      "22  Laptop HP 250 G9, 15.6\", Intel Core i5, 8GB RAM, 512GB SSD, Intel Iris Xe Graphi   539.5\n",
      "23  Laptop Dell Inspiron 14 Plus (7420), 14\", Intel Core i7, 16GB RAM, 512GB SSD, In  1077.5\n"
     ]
    },
    {
     "data": {
      "image/png": "[encoded data removed]",
      "text/plain": [
       "<Figure size 800x600 with 1 Axes>"
      ]
     },
     "metadata": {},
     "output_type": "display_data"
    }
   ],
   "source": [
    "# Scraping Gjirafa50 Website for laptop prices- Using BeautifulSoup\n",
    "import requests\n",
    "from bs4 import BeautifulSoup\n",
    "import pandas as pd\n",
    "import matplotlib.pyplot as plt\n",
    "import os\n",
    "\n",
    "laptops = []   # List to store names of the laptop models\n",
    "prices = []     # List to store prices of the laptops\n",
    "\n",
    "sp = requests.get(\"https://gjirafa50.com/search?q=laptop\")\n",
    "sp = BeautifulSoup(sp.content, 'html.parser')\n",
    "\n",
    "# print(sp.prettify())\n",
    "\n",
    "for each in sp.find_all('a', href=True, attrs={'class':'text-gray-700 text-sm md:text-base product-title-lines hover:underline'}):\n",
    "    name1 = each['title']\n",
    "    name = name1[0:80]       # will take only first 80 characetrs of the name\n",
    "    if name is None:    #if the name does not exist\n",
    "        laptops.append(None)\n",
    "    else:\n",
    "        laptops.append(name) # Get the text part\n",
    "\n",
    "price_elements = sp.find_all('span', class_='price font-semibold text-gray-700 text-base md:text-xl')\n",
    "for price_element in price_elements:\n",
    "    price = price_element.text.strip()               # price is a string exprssion in this case\n",
    "    size = len(price)\n",
    "    price1 = price[:size-2]                          # remove a space and Euro symbol\n",
    "    prices.append(float(price1.replace(',','')))     # remove commas before converting to a float\n",
    "\n",
    "# Structuring and storing data\n",
    "df = pd.DataFrame({'Product Name': laptops, 'Price': prices}) \n",
    "print(df.to_string())\n",
    "\n",
    "# Create a box plot of the prices\n",
    "plt.figure(figsize=(8, 6))  # Adjust the figure size as needed\n",
    "plt.boxplot(df['Price'])\n",
    "plt.ylabel('Price')\n",
    "plt.title('Distribution of Laptop Prices')\n",
    "plt.xticks([1], ['Laptops'])  # Label the x-axis with 'Laptops'\n",
    "plt.tight_layout()\n",
    "\n",
    "# Show the plot\n",
    "plt.show()\n"
   ]
  }
 ],
 "metadata": {
  "kernelspec": {
   "display_name": "Python 3 (ipykernel)",
   "language": "python",
   "name": "python3"
  },
  "language_info": {
   "codemirror_mode": {
    "name": "ipython",
    "version": 3
   },
   "file_extension": ".py",
   "mimetype": "text/x-python",
   "name": "python",
   "nbconvert_exporter": "python",
   "pygments_lexer": "ipython3",
   "version": "3.10.9"
  }
 },
 "nbformat": 4,
 "nbformat_minor": 5
}
